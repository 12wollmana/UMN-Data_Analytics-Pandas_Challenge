{
 "cells": [
  {
   "cell_type": "markdown",
   "metadata": {},
   "source": [
    "### Note\n",
    "* Instructions have been included for each segment. You do not have to follow them exactly, but they are included to help you think through the steps."
   ]
  },
  {
   "cell_type": "code",
   "execution_count": 1,
   "metadata": {},
   "outputs": [],
   "source": [
    "# Dependencies and Setup\n",
    "import pandas as pd\n",
    "\n",
    "# File to Load (Remember to Change These)\n",
    "file_to_load = \"Resources/purchase_data.csv\"\n",
    "\n",
    "# Read Purchasing File and store into Pandas data frame\n",
    "purchase_data = pd.read_csv(file_to_load)"
   ]
  },
  {
   "cell_type": "code",
   "execution_count": 2,
   "metadata": {},
   "outputs": [],
   "source": [
    "# Define Constants using Classes\n",
    "# Note that the bootcamp hasn't covered classes yet, but I'm using them anyway.\n",
    "class columns:\n",
    "    purchaseID = \"Purchase ID\"\n",
    "    screenName = \"SN\"\n",
    "    age = \"Age\"\n",
    "    gender = \"Gender\"\n",
    "    itemID = \"Item ID\"\n",
    "    itemName = \"Item Name\"\n",
    "    itemPrice = \"Price\""
   ]
  },
  {
   "cell_type": "markdown",
   "metadata": {},
   "source": [
    "## Player Count"
   ]
  },
  {
   "cell_type": "markdown",
   "metadata": {},
   "source": [
    "* Display the total number of players\n"
   ]
  },
  {
   "cell_type": "code",
   "execution_count": 3,
   "metadata": {},
   "outputs": [
    {
     "output_type": "execute_result",
     "data": {
      "text/plain": "   Total Players\n0            576",
      "text/html": "<div>\n<style scoped>\n    .dataframe tbody tr th:only-of-type {\n        vertical-align: middle;\n    }\n\n    .dataframe tbody tr th {\n        vertical-align: top;\n    }\n\n    .dataframe thead th {\n        text-align: right;\n    }\n</style>\n<table border=\"1\" class=\"dataframe\">\n  <thead>\n    <tr style=\"text-align: right;\">\n      <th></th>\n      <th>Total Players</th>\n    </tr>\n  </thead>\n  <tbody>\n    <tr>\n      <th>0</th>\n      <td>576</td>\n    </tr>\n  </tbody>\n</table>\n</div>"
     },
     "metadata": {},
     "execution_count": 3
    }
   ],
   "source": [
    "playerCount = purchase_data[columns.screenName].nunique()\n",
    "playerCountDF = pd.DataFrame({\"Total Players\" : [playerCount]})\n",
    "playerCountDF"
   ]
  },
  {
   "cell_type": "markdown",
   "metadata": {},
   "source": [
    "## Purchasing Analysis (Total)"
   ]
  },
  {
   "cell_type": "markdown",
   "metadata": {},
   "source": [
    "* Run basic calculations to obtain number of unique items, average price, etc.\n",
    "\n",
    "\n",
    "* Create a summary data frame to hold the results\n",
    "\n",
    "\n",
    "* Optional: give the displayed data cleaner formatting\n",
    "\n",
    "\n",
    "* Display the summary data frame\n"
   ]
  },
  {
   "cell_type": "code",
   "execution_count": 4,
   "metadata": {
    "scrolled": true
   },
   "outputs": [],
   "source": [
    "# Unique Items\n",
    "numItems = len(purchase_data[columns.itemID].unique())"
   ]
  },
  {
   "cell_type": "code",
   "execution_count": 5,
   "metadata": {},
   "outputs": [],
   "source": [
    "# Average Purchase Price\n",
    "avgPurchasePrice = purchase_data[columns.itemPrice].mean()"
   ]
  },
  {
   "cell_type": "code",
   "execution_count": 6,
   "metadata": {},
   "outputs": [],
   "source": [
    "# Total Number of Purchases\n",
    "numPurchases = purchase_data[columns.purchaseID].count()"
   ]
  },
  {
   "cell_type": "code",
   "execution_count": 7,
   "metadata": {},
   "outputs": [],
   "source": [
    "# Total Revenue\n",
    "totalRev = purchase_data[columns.itemPrice].sum()"
   ]
  },
  {
   "cell_type": "code",
   "execution_count": 8,
   "metadata": {},
   "outputs": [
    {
     "output_type": "execute_result",
     "data": {
      "text/plain": "   Number of Unique Items Average Purchase Price  Total Number of Purchases  \\\n0                     179                  $3.05                        780   \n\n  Total Revenue  \n0     $2,379.77  ",
      "text/html": "<div>\n<style scoped>\n    .dataframe tbody tr th:only-of-type {\n        vertical-align: middle;\n    }\n\n    .dataframe tbody tr th {\n        vertical-align: top;\n    }\n\n    .dataframe thead th {\n        text-align: right;\n    }\n</style>\n<table border=\"1\" class=\"dataframe\">\n  <thead>\n    <tr style=\"text-align: right;\">\n      <th></th>\n      <th>Number of Unique Items</th>\n      <th>Average Purchase Price</th>\n      <th>Total Number of Purchases</th>\n      <th>Total Revenue</th>\n    </tr>\n  </thead>\n  <tbody>\n    <tr>\n      <th>0</th>\n      <td>179</td>\n      <td>$3.05</td>\n      <td>780</td>\n      <td>$2,379.77</td>\n    </tr>\n  </tbody>\n</table>\n</div>"
     },
     "metadata": {},
     "execution_count": 8
    }
   ],
   "source": [
    "# Summary Table\n",
    "class purchaseSumCols:\n",
    "    numUniqueItems = \"Number of Unique Items\"\n",
    "    avgPurchasePrice = \"Average Purchase Price\"\n",
    "    totalNumPurchases = \"Total Number of Purchases\"\n",
    "    totalRevenue = \"Total Revenue\"\n",
    "\n",
    "purchaseSummaryDF = pd.DataFrame({\n",
    "    purchaseSumCols.numUniqueItems : [numItems],\n",
    "    purchaseSumCols.avgPurchasePrice : avgPurchasePrice,\n",
    "    purchaseSumCols.totalNumPurchases : numPurchases,\n",
    "    purchaseSumCols.totalRevenue : totalRev\n",
    "})\n",
    "\n",
    "# Format Data\n",
    "def formatCurrencyColumn(df, columnLabel):\n",
    "    df[columnLabel] = df[columnLabel].astype(\"float\").map(\"${:,.2f}\".format)\n",
    "    return df\n",
    "\n",
    "purchaseSummaryDF = formatCurrencyColumn(purchaseSummaryDF, purchaseSumCols.avgPurchasePrice)\n",
    "purchaseSummaryDF = formatCurrencyColumn(purchaseSummaryDF, purchaseSumCols.totalRevenue)\n",
    "\n",
    "purchaseSummaryDF"
   ]
  },
  {
   "cell_type": "markdown",
   "metadata": {},
   "source": [
    "## Gender Demographics"
   ]
  },
  {
   "cell_type": "markdown",
   "metadata": {},
   "source": [
    "* Percentage and Count of Male Players\n",
    "\n",
    "\n",
    "* Percentage and Count of Female Players\n",
    "\n",
    "\n",
    "* Percentage and Count of Other / Non-Disclosed\n",
    "\n",
    "\n"
   ]
  },
  {
   "cell_type": "code",
   "execution_count": 9,
   "metadata": {},
   "outputs": [],
   "source": [
    "# Define Constants\n",
    "class demoCols:\n",
    "    percent = \"Percentage of Players\"\n",
    "    count = \"Total Count\"\n",
    "    gender = columns.gender"
   ]
  },
  {
   "cell_type": "code",
   "execution_count": 10,
   "metadata": {},
   "outputs": [],
   "source": [
    "# Define Functions\n",
    "def getGenders():\n",
    "    return purchase_data[columns.gender].unique()\n",
    "\n",
    "def getGenderDF(gender):\n",
    "    return purchase_data.loc[purchase_data[columns.gender] == gender]\n",
    "\n",
    "def getCount(gender):\n",
    "    genderDF = getGenderDF(gender)\n",
    "    count = genderDF[columns.screenName].nunique()\n",
    "    return count\n",
    "    \n",
    "def getPercent(num, denom):\n",
    "    return (num/denom) * 100\n",
    "    \n",
    "def getDemographic(gender):\n",
    "    count = getCount(gender)\n",
    "    percent = getPercent(count, playerCount)\n",
    "    demographic = {\n",
    "        demoCols.gender : gender,\n",
    "        demoCols.count : count,\n",
    "        demoCols.percent : percent \n",
    "    }\n",
    "    return demographic\n",
    "\n",
    "def formatPercentColumn(df, columnLabel):\n",
    "    df[columnLabel] = df[columnLabel].astype(\"float\").map(\"{:,.2f}%\".format)\n",
    "    return df"
   ]
  },
  {
   "cell_type": "code",
   "execution_count": 11,
   "metadata": {},
   "outputs": [],
   "source": [
    "# Do Work\n",
    "demographics = []\n",
    "for gender in getGenders():\n",
    "    demographic = getDemographic(gender)\n",
    "    demographics.append(demographic)"
   ]
  },
  {
   "cell_type": "code",
   "execution_count": 12,
   "metadata": {},
   "outputs": [],
   "source": [
    "# Create Summary Table\n",
    "genderDemoDF = pd.DataFrame(demographics)"
   ]
  },
  {
   "cell_type": "code",
   "execution_count": 13,
   "metadata": {},
   "outputs": [
    {
     "output_type": "execute_result",
     "data": {
      "text/plain": "                       Total Count Percentage of Players\nGender                                                  \nFemale                          81                14.06%\nMale                           484                84.03%\nOther / Non-Disclosed           11                 1.91%",
      "text/html": "<div>\n<style scoped>\n    .dataframe tbody tr th:only-of-type {\n        vertical-align: middle;\n    }\n\n    .dataframe tbody tr th {\n        vertical-align: top;\n    }\n\n    .dataframe thead th {\n        text-align: right;\n    }\n</style>\n<table border=\"1\" class=\"dataframe\">\n  <thead>\n    <tr style=\"text-align: right;\">\n      <th></th>\n      <th>Total Count</th>\n      <th>Percentage of Players</th>\n    </tr>\n    <tr>\n      <th>Gender</th>\n      <th></th>\n      <th></th>\n    </tr>\n  </thead>\n  <tbody>\n    <tr>\n      <th>Female</th>\n      <td>81</td>\n      <td>14.06%</td>\n    </tr>\n    <tr>\n      <th>Male</th>\n      <td>484</td>\n      <td>84.03%</td>\n    </tr>\n    <tr>\n      <th>Other / Non-Disclosed</th>\n      <td>11</td>\n      <td>1.91%</td>\n    </tr>\n  </tbody>\n</table>\n</div>"
     },
     "metadata": {},
     "execution_count": 13
    }
   ],
   "source": [
    "# Format Summary Table\n",
    "genderDemoDF = genderDemoDF.sort_values(demoCols.gender)\n",
    "genderDemoDF = genderDemoDF.set_index(demoCols.gender)\n",
    "genderDemoDF = formatPercentColumn(genderDemoDF, demoCols.percent)\n",
    "genderDemoDF.head()"
   ]
  },
  {
   "cell_type": "markdown",
   "metadata": {},
   "source": [
    "\n",
    "## Purchasing Analysis (Gender)"
   ]
  },
  {
   "cell_type": "markdown",
   "metadata": {},
   "source": [
    "* Run basic calculations to obtain purchase count, avg. purchase price, avg. purchase total per person etc. by gender\n",
    "\n",
    "\n",
    "\n",
    "\n",
    "* Create a summary data frame to hold the results\n",
    "\n",
    "\n",
    "* Optional: give the displayed data cleaner formatting\n",
    "\n",
    "\n",
    "* Display the summary data frame"
   ]
  },
  {
   "cell_type": "code",
   "execution_count": 14,
   "metadata": {},
   "outputs": [],
   "source": [
    "# Define Constants\n",
    "class purchaseAnalysisCols:\n",
    "    gender = columns.gender\n",
    "    purchaseCount = \"Purchase Count\"\n",
    "    avgPurchasePrice = \"Average Purchase Price\"\n",
    "    totalPurchaseValue = \"Total Purchase Value\"\n",
    "    avgPurcasePerPerson = \"Avg Total Purchase per Person\""
   ]
  },
  {
   "cell_type": "code",
   "execution_count": 15,
   "metadata": {},
   "outputs": [],
   "source": [
    "# Define Functions\n",
    "def getPurchaseCount(df):\n",
    "    return df[columns.purchaseID].nunique()\n",
    "\n",
    "def getAvgPurchasePrice(df):\n",
    "    return df[columns.itemPrice].mean()\n",
    "\n",
    "def getTotalPurchaseValue(df):\n",
    "    return df[columns.itemPrice].sum()\n",
    "\n",
    "def getAvgPurchasePerPerson(df):\n",
    "    gb = df.groupby(columns.screenName)\n",
    "    totalDF = gb.sum()\n",
    "    return totalDF[columns.itemPrice].mean()\n",
    "\n",
    "def getPurchaseAnalysis(gender):\n",
    "    df = getGenderDF(gender)\n",
    "    \n",
    "    purchaseCount = getPurchaseCount(df)\n",
    "    avgPurchasePrice = getAvgPurchasePrice(df)\n",
    "    totalPurchaseValue = getTotalPurchaseValue(df)\n",
    "    avgPurchasePerPerson = getAvgPurchasePerPerson(df)\n",
    "    \n",
    "    analysis = {\n",
    "        purchaseAnalysisCols.gender : gender,\n",
    "        purchaseAnalysisCols.purchaseCount : purchaseCount,\n",
    "        purchaseAnalysisCols.avgPurchasePrice : avgPurchasePrice,\n",
    "        purchaseAnalysisCols.totalPurchaseValue : totalPurchaseValue,\n",
    "        purchaseAnalysisCols.avgPurcasePerPerson : avgPurchasePerPerson\n",
    "    }\n",
    "    \n",
    "    return analysis"
   ]
  },
  {
   "cell_type": "code",
   "execution_count": 16,
   "metadata": {},
   "outputs": [],
   "source": [
    "# Do Work\n",
    "purchaseAnalysises = []\n",
    "for gender in getGenders():\n",
    "    analysis = getPurchaseAnalysis(gender)\n",
    "    purchaseAnalysises.append(analysis)"
   ]
  },
  {
   "cell_type": "code",
   "execution_count": 17,
   "metadata": {},
   "outputs": [],
   "source": [
    "# Create Summary Table\n",
    "purchaseAnalysisDF = pd.DataFrame(purchaseAnalysises)"
   ]
  },
  {
   "cell_type": "code",
   "execution_count": 18,
   "metadata": {},
   "outputs": [
    {
     "output_type": "execute_result",
     "data": {
      "text/plain": "                       Purchase Count Average Purchase Price  \\\nGender                                                         \nFemale                            113                  $3.20   \nMale                              652                  $3.02   \nOther / Non-Disclosed              15                  $3.35   \n\n                      Total Purchase Value Avg Total Purchase per Person  \nGender                                                                    \nFemale                             $361.94                         $4.47  \nMale                             $1,967.64                         $4.07  \nOther / Non-Disclosed               $50.19                         $4.56  ",
      "text/html": "<div>\n<style scoped>\n    .dataframe tbody tr th:only-of-type {\n        vertical-align: middle;\n    }\n\n    .dataframe tbody tr th {\n        vertical-align: top;\n    }\n\n    .dataframe thead th {\n        text-align: right;\n    }\n</style>\n<table border=\"1\" class=\"dataframe\">\n  <thead>\n    <tr style=\"text-align: right;\">\n      <th></th>\n      <th>Purchase Count</th>\n      <th>Average Purchase Price</th>\n      <th>Total Purchase Value</th>\n      <th>Avg Total Purchase per Person</th>\n    </tr>\n    <tr>\n      <th>Gender</th>\n      <th></th>\n      <th></th>\n      <th></th>\n      <th></th>\n    </tr>\n  </thead>\n  <tbody>\n    <tr>\n      <th>Female</th>\n      <td>113</td>\n      <td>$3.20</td>\n      <td>$361.94</td>\n      <td>$4.47</td>\n    </tr>\n    <tr>\n      <th>Male</th>\n      <td>652</td>\n      <td>$3.02</td>\n      <td>$1,967.64</td>\n      <td>$4.07</td>\n    </tr>\n    <tr>\n      <th>Other / Non-Disclosed</th>\n      <td>15</td>\n      <td>$3.35</td>\n      <td>$50.19</td>\n      <td>$4.56</td>\n    </tr>\n  </tbody>\n</table>\n</div>"
     },
     "metadata": {},
     "execution_count": 18
    }
   ],
   "source": [
    "# Format Summary Table\n",
    "purchaseAnalysisDF = purchaseAnalysisDF.sort_values(purchaseAnalysisCols.gender)\n",
    "purchaseAnalysisDF = purchaseAnalysisDF.set_index(purchaseAnalysisCols.gender)\n",
    "\n",
    "currencyCols = [purchaseAnalysisCols.avgPurchasePrice,\n",
    "                purchaseAnalysisCols.totalPurchaseValue,\n",
    "                purchaseAnalysisCols.avgPurcasePerPerson]\n",
    "for cols in currencyCols:\n",
    "    purchaseAnalysisDF = formatCurrencyColumn(purchaseAnalysisDF, cols)\n",
    "\n",
    "purchaseAnalysisDF.head()"
   ]
  },
  {
   "cell_type": "markdown",
   "metadata": {},
   "source": [
    "## Age Demographics"
   ]
  },
  {
   "cell_type": "markdown",
   "metadata": {},
   "source": [
    "* Establish bins for ages\n",
    "\n",
    "\n",
    "* Categorize the existing players using the age bins. Hint: use pd.cut()\n",
    "\n",
    "\n",
    "* Calculate the numbers and percentages by age group\n",
    "\n",
    "\n",
    "* Create a summary data frame to hold the results\n",
    "\n",
    "\n",
    "* Optional: round the percentage column to two decimal points\n",
    "\n",
    "\n",
    "* Display Age Demographics Table\n"
   ]
  },
  {
   "cell_type": "code",
   "execution_count": 19,
   "metadata": {},
   "outputs": [],
   "source": [
    "# Define Bins\n",
    "columns.ageBin = \"Age Range\"\n",
    "ageBinValues = [0, 9, 14, 19, 24, 29, 34, 39, 999]\n",
    "ageBinLabels = [\"<10\", \"10-14\", \"15-19\", \"20-24\", \n",
    "                \"25-29\", \"30-34\", \"35-39\", \"40+\"]\n",
    "purchase_data[columns.ageBin] = pd.cut(purchase_data[columns.age], ageBinValues, labels = ageBinLabels, include_lowest=False)"
   ]
  },
  {
   "cell_type": "code",
   "execution_count": 20,
   "metadata": {},
   "outputs": [],
   "source": [
    "# Do Work\n",
    "ageGB = purchase_data.groupby(columns.ageBin)\n",
    "\n",
    "count = ageGB[columns.screenName].nunique()\n",
    "percent = getPercent(count, playerCount)"
   ]
  },
  {
   "cell_type": "code",
   "execution_count": 21,
   "metadata": {},
   "outputs": [],
   "source": [
    "# Create Summary Table\n",
    "class ageDemoCols:\n",
    "    count = \"Total Count\"\n",
    "    percent = \"Percentage of Players\"\n",
    "\n",
    "ageDemoDF = pd.DataFrame()\n",
    "ageDemoDF[ageDemoCols.count] = count\n",
    "ageDemoDF[ageDemoCols.percent] = percent"
   ]
  },
  {
   "cell_type": "code",
   "execution_count": 22,
   "metadata": {},
   "outputs": [
    {
     "output_type": "execute_result",
     "data": {
      "text/plain": "           Total Count Percentage of Players\nAge Range                                   \n<10                 17                 2.95%\n10-14               22                 3.82%\n15-19              107                18.58%\n20-24              258                44.79%\n25-29               77                13.37%\n30-34               52                 9.03%\n35-39               31                 5.38%\n40+                 12                 2.08%",
      "text/html": "<div>\n<style scoped>\n    .dataframe tbody tr th:only-of-type {\n        vertical-align: middle;\n    }\n\n    .dataframe tbody tr th {\n        vertical-align: top;\n    }\n\n    .dataframe thead th {\n        text-align: right;\n    }\n</style>\n<table border=\"1\" class=\"dataframe\">\n  <thead>\n    <tr style=\"text-align: right;\">\n      <th></th>\n      <th>Total Count</th>\n      <th>Percentage of Players</th>\n    </tr>\n    <tr>\n      <th>Age Range</th>\n      <th></th>\n      <th></th>\n    </tr>\n  </thead>\n  <tbody>\n    <tr>\n      <th>&lt;10</th>\n      <td>17</td>\n      <td>2.95%</td>\n    </tr>\n    <tr>\n      <th>10-14</th>\n      <td>22</td>\n      <td>3.82%</td>\n    </tr>\n    <tr>\n      <th>15-19</th>\n      <td>107</td>\n      <td>18.58%</td>\n    </tr>\n    <tr>\n      <th>20-24</th>\n      <td>258</td>\n      <td>44.79%</td>\n    </tr>\n    <tr>\n      <th>25-29</th>\n      <td>77</td>\n      <td>13.37%</td>\n    </tr>\n    <tr>\n      <th>30-34</th>\n      <td>52</td>\n      <td>9.03%</td>\n    </tr>\n    <tr>\n      <th>35-39</th>\n      <td>31</td>\n      <td>5.38%</td>\n    </tr>\n    <tr>\n      <th>40+</th>\n      <td>12</td>\n      <td>2.08%</td>\n    </tr>\n  </tbody>\n</table>\n</div>"
     },
     "metadata": {},
     "execution_count": 22
    }
   ],
   "source": [
    "# Format Summary Table\n",
    "ageDemoDF = formatPercentColumn(ageDemoDF, ageDemoCols.percent)\n",
    "ageDemoDF"
   ]
  },
  {
   "cell_type": "markdown",
   "metadata": {},
   "source": [
    "## Purchasing Analysis (Age)"
   ]
  },
  {
   "cell_type": "markdown",
   "metadata": {},
   "source": [
    "* Bin the purchase_data data frame by age\n",
    "\n",
    "\n",
    "* Run basic calculations to obtain purchase count, avg. purchase price, avg. purchase total per person etc. in the table below\n",
    "\n",
    "\n",
    "* Create a summary data frame to hold the results\n",
    "\n",
    "\n",
    "* Optional: give the displayed data cleaner formatting\n",
    "\n",
    "\n",
    "* Display the summary data frame"
   ]
  },
  {
   "cell_type": "code",
   "execution_count": 23,
   "metadata": {},
   "outputs": [],
   "source": [
    "# Define Constants\n",
    "class purchaseAnalysisCols:\n",
    "    purchaseCount = \"Purchase Count\"\n",
    "    avgPurchasePrice = \"Average Purchase Price\"\n",
    "    totalPurchaseValue = \"Total Purchase Value\"\n",
    "    avgPurchasePerPerson = \"Avg Total Purchase Per Person\""
   ]
  },
  {
   "cell_type": "code",
   "execution_count": 24,
   "metadata": {},
   "outputs": [],
   "source": [
    "# Do Work\n",
    "purchaseCount = ageGB[columns.purchaseID].count()\n",
    "avgPurchasePrice = ageGB[columns.itemPrice].mean()\n",
    "totalPurchaseValue = ageGB[columns.itemPrice].sum()\n",
    "\n",
    "numPersons = ageGB[columns.screenName].nunique()\n",
    "avgTotalPurchasePerPerson = totalPurchaseValue / numPersons"
   ]
  },
  {
   "cell_type": "code",
   "execution_count": 25,
   "metadata": {},
   "outputs": [],
   "source": [
    "# Create Summary Table\n",
    "purchaseAnalysisDF = pd.DataFrame()\n",
    "purchaseAnalysisDF[purchaseAnalysisCols.purchaseCount] = purchaseCount\n",
    "purchaseAnalysisDF[purchaseAnalysisCols.avgPurchasePrice] = avgPurchasePrice\n",
    "purchaseAnalysisDF[purchaseAnalysisCols.totalPurchaseValue] = totalPurchaseValue\n",
    "purchaseAnalysisDF[purchaseAnalysisCols.avgPurchasePerPerson] = avgTotalPurchasePerPerson"
   ]
  },
  {
   "cell_type": "code",
   "execution_count": 26,
   "metadata": {},
   "outputs": [
    {
     "output_type": "execute_result",
     "data": {
      "text/plain": "           Purchase Count Average Purchase Price Total Purchase Value  \\\nAge Range                                                               \n<10                    23                  $3.35               $77.13   \n10-14                  28                  $2.96               $82.78   \n15-19                 136                  $3.04              $412.89   \n20-24                 365                  $3.05            $1,114.06   \n25-29                 101                  $2.90              $293.00   \n30-34                  73                  $2.93              $214.00   \n35-39                  41                  $3.60              $147.67   \n40+                    13                  $2.94               $38.24   \n\n          Avg Total Purchase Per Person  \nAge Range                                \n<10                               $4.54  \n10-14                             $3.76  \n15-19                             $3.86  \n20-24                             $4.32  \n25-29                             $3.81  \n30-34                             $4.12  \n35-39                             $4.76  \n40+                               $3.19  ",
      "text/html": "<div>\n<style scoped>\n    .dataframe tbody tr th:only-of-type {\n        vertical-align: middle;\n    }\n\n    .dataframe tbody tr th {\n        vertical-align: top;\n    }\n\n    .dataframe thead th {\n        text-align: right;\n    }\n</style>\n<table border=\"1\" class=\"dataframe\">\n  <thead>\n    <tr style=\"text-align: right;\">\n      <th></th>\n      <th>Purchase Count</th>\n      <th>Average Purchase Price</th>\n      <th>Total Purchase Value</th>\n      <th>Avg Total Purchase Per Person</th>\n    </tr>\n    <tr>\n      <th>Age Range</th>\n      <th></th>\n      <th></th>\n      <th></th>\n      <th></th>\n    </tr>\n  </thead>\n  <tbody>\n    <tr>\n      <th>&lt;10</th>\n      <td>23</td>\n      <td>$3.35</td>\n      <td>$77.13</td>\n      <td>$4.54</td>\n    </tr>\n    <tr>\n      <th>10-14</th>\n      <td>28</td>\n      <td>$2.96</td>\n      <td>$82.78</td>\n      <td>$3.76</td>\n    </tr>\n    <tr>\n      <th>15-19</th>\n      <td>136</td>\n      <td>$3.04</td>\n      <td>$412.89</td>\n      <td>$3.86</td>\n    </tr>\n    <tr>\n      <th>20-24</th>\n      <td>365</td>\n      <td>$3.05</td>\n      <td>$1,114.06</td>\n      <td>$4.32</td>\n    </tr>\n    <tr>\n      <th>25-29</th>\n      <td>101</td>\n      <td>$2.90</td>\n      <td>$293.00</td>\n      <td>$3.81</td>\n    </tr>\n    <tr>\n      <th>30-34</th>\n      <td>73</td>\n      <td>$2.93</td>\n      <td>$214.00</td>\n      <td>$4.12</td>\n    </tr>\n    <tr>\n      <th>35-39</th>\n      <td>41</td>\n      <td>$3.60</td>\n      <td>$147.67</td>\n      <td>$4.76</td>\n    </tr>\n    <tr>\n      <th>40+</th>\n      <td>13</td>\n      <td>$2.94</td>\n      <td>$38.24</td>\n      <td>$3.19</td>\n    </tr>\n  </tbody>\n</table>\n</div>"
     },
     "metadata": {},
     "execution_count": 26
    }
   ],
   "source": [
    "# Format Summary Table\n",
    "currencyCols = [purchaseAnalysisCols.avgPurchasePrice,\n",
    "                purchaseAnalysisCols.totalPurchaseValue,\n",
    "                purchaseAnalysisCols.avgPurchasePerPerson]\n",
    "for col in currencyCols:\n",
    "    purchaseAnalysisDF = formatCurrencyColumn(purchaseAnalysisDF, col)\n",
    "    \n",
    "purchaseAnalysisDF"
   ]
  },
  {
   "cell_type": "markdown",
   "metadata": {},
   "source": [
    "## Top Spenders"
   ]
  },
  {
   "cell_type": "markdown",
   "metadata": {},
   "source": [
    "* Run basic calculations to obtain the results in the table below\n",
    "\n",
    "\n",
    "* Create a summary data frame to hold the results\n",
    "\n",
    "\n",
    "* Sort the total purchase value column in descending order\n",
    "\n",
    "\n",
    "* Optional: give the displayed data cleaner formatting\n",
    "\n",
    "\n",
    "* Display a preview of the summary data frame\n",
    "\n"
   ]
  },
  {
   "cell_type": "code",
   "execution_count": 27,
   "metadata": {},
   "outputs": [],
   "source": [
    "# Define Constants\n",
    "class spendersCols:\n",
    "    screenName = columns.screenName\n",
    "    purchaseCount = \"Purchase Count\"\n",
    "    avgPurchasePrice = \"Average Purchase Price\"\n",
    "    totalPurchaseValue = \"Total Purchase Value\""
   ]
  },
  {
   "cell_type": "code",
   "execution_count": 28,
   "metadata": {},
   "outputs": [],
   "source": [
    "# Define Functions\n",
    "def getSpendersGB():\n",
    "    return purchase_data.groupby(columns.screenName)\n",
    "\n",
    "def getTopFiveSpenders():\n",
    "    spendersGB = getSpendersGB()\n",
    "    totalSpentSeries = spendersGB[columns.itemPrice].sum()\n",
    "    top5Series = totalSpentSeries.nlargest(5)\n",
    "    return top5Series\n",
    "\n",
    "def getTopFiveSpendersAnalysis(name, topFiveSeries):\n",
    "    spendersGB = getSpendersGB()\n",
    "    totalSpent = topFiveSeries[name]\n",
    "    purchaseCount = spendersGB.get_group(name)[columns.purchaseID].count()\n",
    "    avgPrice = spendersGB.get_group(name)[columns.itemPrice].mean()\n",
    "    return {\n",
    "        spendersCols.screenName: name,\n",
    "        spendersCols.purchaseCount : purchaseCount,\n",
    "        spendersCols.avgPurchasePrice : avgPrice,\n",
    "        spendersCols.totalPurchaseValue : totalSpent\n",
    "    }"
   ]
  },
  {
   "cell_type": "code",
   "execution_count": 29,
   "metadata": {
    "tags": []
   },
   "outputs": [],
   "source": [
    "# Do Work\n",
    "topFiveSeries = getTopFiveSpenders()\n",
    "topFiveAnalysises = []\n",
    "for key in topFiveSeries.keys():\n",
    "    topFiveAnalysis = getTopFiveSpendersAnalysis(key, topFiveSeries)\n",
    "    topFiveAnalysises.append(topFiveAnalysis)\n"
   ]
  },
  {
   "cell_type": "code",
   "execution_count": 30,
   "metadata": {},
   "outputs": [
    {
     "output_type": "execute_result",
     "data": {
      "text/plain": "             Purchase Count Average Purchase Price Total Purchase Value\nSN                                                                     \nLisosia93                 5                  $3.79               $18.96\nIdastidru52               4                  $3.86               $15.45\nChamjask73                3                  $4.61               $13.83\nIral74                    4                  $3.40               $13.62\nIskadarya95               3                  $4.37               $13.10",
      "text/html": "<div>\n<style scoped>\n    .dataframe tbody tr th:only-of-type {\n        vertical-align: middle;\n    }\n\n    .dataframe tbody tr th {\n        vertical-align: top;\n    }\n\n    .dataframe thead th {\n        text-align: right;\n    }\n</style>\n<table border=\"1\" class=\"dataframe\">\n  <thead>\n    <tr style=\"text-align: right;\">\n      <th></th>\n      <th>Purchase Count</th>\n      <th>Average Purchase Price</th>\n      <th>Total Purchase Value</th>\n    </tr>\n    <tr>\n      <th>SN</th>\n      <th></th>\n      <th></th>\n      <th></th>\n    </tr>\n  </thead>\n  <tbody>\n    <tr>\n      <th>Lisosia93</th>\n      <td>5</td>\n      <td>$3.79</td>\n      <td>$18.96</td>\n    </tr>\n    <tr>\n      <th>Idastidru52</th>\n      <td>4</td>\n      <td>$3.86</td>\n      <td>$15.45</td>\n    </tr>\n    <tr>\n      <th>Chamjask73</th>\n      <td>3</td>\n      <td>$4.61</td>\n      <td>$13.83</td>\n    </tr>\n    <tr>\n      <th>Iral74</th>\n      <td>4</td>\n      <td>$3.40</td>\n      <td>$13.62</td>\n    </tr>\n    <tr>\n      <th>Iskadarya95</th>\n      <td>3</td>\n      <td>$4.37</td>\n      <td>$13.10</td>\n    </tr>\n  </tbody>\n</table>\n</div>"
     },
     "metadata": {},
     "execution_count": 30
    }
   ],
   "source": [
    "# Summary Table\n",
    "topFiveAnalysisDF = pd.DataFrame(topFiveAnalysises)\n",
    "topFiveAnalysisDF = topFiveAnalysisDF.set_index(spendersCols.screenName)\n",
    "currencyCols = [spendersCols.avgPurchasePrice, spendersCols.totalPurchaseValue]\n",
    "for col in currencyCols:\n",
    "    topFiveAnalysisDF = formatCurrencyColumn(topFiveAnalysisDF, col)\n",
    "\n",
    "topFiveAnalysisDF"
   ]
  },
  {
   "cell_type": "markdown",
   "metadata": {},
   "source": [
    "## Most Popular Items"
   ]
  },
  {
   "cell_type": "markdown",
   "metadata": {},
   "source": [
    "* Retrieve the Item ID, Item Name, and Item Price columns\n",
    "\n",
    "\n",
    "* Group by Item ID and Item Name. Perform calculations to obtain purchase count, item price, and total purchase value\n",
    "\n",
    "\n",
    "* Create a summary data frame to hold the results\n",
    "\n",
    "\n",
    "* Sort the purchase count column in descending order\n",
    "\n",
    "\n",
    "* Optional: give the displayed data cleaner formatting\n",
    "\n",
    "\n",
    "* Display a preview of the summary data frame\n",
    "\n"
   ]
  },
  {
   "cell_type": "code",
   "execution_count": null,
   "metadata": {},
   "outputs": [],
   "source": []
  },
  {
   "cell_type": "markdown",
   "metadata": {},
   "source": [
    "## Most Profitable Items"
   ]
  },
  {
   "cell_type": "markdown",
   "metadata": {},
   "source": [
    "* Sort the above table by total purchase value in descending order\n",
    "\n",
    "\n",
    "* Optional: give the displayed data cleaner formatting\n",
    "\n",
    "\n",
    "* Display a preview of the data frame\n",
    "\n"
   ]
  },
  {
   "cell_type": "code",
   "execution_count": null,
   "metadata": {
    "scrolled": true
   },
   "outputs": [],
   "source": []
  }
 ],
 "metadata": {
  "anaconda-cloud": {},
  "kernel_info": {
   "name": "python3"
  },
  "kernelspec": {
   "display_name": "Python 3",
   "language": "python",
   "name": "python3"
  },
  "language_info": {
   "codemirror_mode": {
    "name": "ipython",
    "version": 3
   },
   "file_extension": ".py",
   "mimetype": "text/x-python",
   "name": "python",
   "nbconvert_exporter": "python",
   "pygments_lexer": "ipython3",
   "version": "3.6.10-final"
  },
  "latex_envs": {
   "LaTeX_envs_menu_present": true,
   "autoclose": false,
   "autocomplete": true,
   "bibliofile": "biblio.bib",
   "cite_by": "apalike",
   "current_citInitial": 1,
   "eqLabelWithNumbers": true,
   "eqNumInitial": 1,
   "hotkeys": {
    "equation": "Ctrl-E",
    "itemize": "Ctrl-I"
   },
   "labels_anchors": false,
   "latex_user_defs": false,
   "report_style_numbering": false,
   "user_envs_cfg": false
  },
  "nteract": {
   "version": "0.2.0"
  }
 },
 "nbformat": 4,
 "nbformat_minor": 2
}